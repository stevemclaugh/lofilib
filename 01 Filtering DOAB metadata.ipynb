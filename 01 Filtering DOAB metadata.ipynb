{
 "cells": [
  {
   "cell_type": "code",
   "execution_count": null,
   "metadata": {},
   "outputs": [],
   "source": [
    "import os\n",
    "\n",
    "os.chdir('/sharedfolder/lofilib')\n",
    "\n",
    "!ls"
   ]
  },
  {
   "cell_type": "code",
   "execution_count": null,
   "metadata": {},
   "outputs": [],
   "source": [
    "import csv\n",
    "\n",
    "table = []\n",
    "\n",
    "with open('doab.csv') as fi:\n",
    "    csv_reader = csv.reader(fi)\n",
    "    for row in csv_reader:\n",
    "        table.append(row)\n",
    "\n",
    "table = table[2:]\n",
    "\n",
    "header = table[0]\n",
    "\n",
    "table = table[1:]\n",
    "\n",
    "header"
   ]
  },
  {
   "cell_type": "code",
   "execution_count": null,
   "metadata": {},
   "outputs": [],
   "source": [
    "list(enumerate(header))"
   ]
  },
  {
   "cell_type": "code",
   "execution_count": null,
   "metadata": {},
   "outputs": [],
   "source": [
    "import random\n",
    "import hashlib\n",
    "\n",
    "row = random.choice(table)\n",
    "\n",
    "new_table = []\n",
    "\n",
    "for row in table:\n",
    "    title = row[0]\n",
    "    isbn = row[1]\n",
    "    authors = row[3]\n",
    "    pages = row[4]\n",
    "    publisher = row[7]\n",
    "    language = row[8]\n",
    "    keywords = row[9]\n",
    "    pub_type = row[15]\n",
    "    temp_row_string = str([title, isbn, authors, pages, publisher, language, keywords, pub_type, random.random()])\n",
    "    book_id = hashlib.md5(temp_row_string.encode('utf-8')).hexdigest()\n",
    "    \n",
    "    # to enter later\n",
    "    author_id = 0\n",
    "    description = ''\n",
    "    \n",
    "    new_row = [book_id, author_id, title, authors, isbn, pages, publisher, language, description, keywords, pub_type]\n",
    "    new_table.append(new_row)\n",
    "\n",
    "random.choice(new_table)\n"
   ]
  },
  {
   "cell_type": "code",
   "execution_count": null,
   "metadata": {},
   "outputs": [],
   "source": [
    "import csv\n",
    "\n",
    "new_header = ['book_id', 'author_id', 'title', 'authors', 'isbn', 'pages', 'publisher', 'language', 'description', 'keywords', 'pub_type']\n",
    "\n",
    "with open('doab_filtered.csv', 'w') as fo:\n",
    "    csv_writer = csv.writer(fo)\n",
    "    csv_writer.writerow(new_header)\n",
    "    csv_writer.writerows(new_table)"
   ]
  },
  {
   "cell_type": "code",
   "execution_count": null,
   "metadata": {},
   "outputs": [],
   "source": []
  },
  {
   "cell_type": "code",
   "execution_count": null,
   "metadata": {},
   "outputs": [],
   "source": []
  }
 ],
 "metadata": {
  "kernelspec": {
   "display_name": "Python 3",
   "language": "python",
   "name": "python3"
  },
  "language_info": {
   "codemirror_mode": {
    "name": "ipython",
    "version": 3
   },
   "file_extension": ".py",
   "mimetype": "text/x-python",
   "name": "python",
   "nbconvert_exporter": "python",
   "pygments_lexer": "ipython3",
   "version": "3.5.2"
  }
 },
 "nbformat": 4,
 "nbformat_minor": 2
}
